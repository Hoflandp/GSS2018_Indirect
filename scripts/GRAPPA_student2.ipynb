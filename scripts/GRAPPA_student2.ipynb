{
 "cells": [
  {
   "cell_type": "markdown",
   "metadata": {},
   "source": [
    "# GRAPPA student seminar: Indirect detection - J-factors"
   ]
  },
  {
   "cell_type": "markdown",
   "metadata": {},
   "source": [
    "by Paul Hofland, Bouke Jung and Iris de Ruiter"
   ]
  },
  {
   "cell_type": "code",
   "execution_count": 2,
   "metadata": {
    "collapsed": true
   },
   "outputs": [],
   "source": [
    "# Import all libraries\n",
    "from __future__ import division\n",
    "import numpy as np\n",
    "import pylab as plt\n",
    "import scipy.optimize as op\n",
    "from scipy.integrate import odeint\n",
    "from scipy.integrate import nquad\n",
    "%matplotlib inline"
   ]
  },
  {
   "cell_type": "code",
   "execution_count": 3,
   "metadata": {
    "collapsed": false
   },
   "outputs": [],
   "source": [
    "# kpc in cm\n",
    "kpc_to_cm = 3.086e+21 #cm\n",
    "\n",
    "# (Astro)Physical constants\n",
    "c = 2.9979e10 #cm s-1\n",
    "eV = 1.60217662e-12 # erg\n",
    "Msol = 1.9885e33 #g\n",
    "\n",
    "\n",
    "# The Hubble scale parm and critical density of the universe as given in:\n",
    "# http://pdg.lbl.gov/2013/reviews/rpp2013-rev-astrophysical-constants.pdf\n",
    "h = 0.673 # --\n",
    "rho0_crit = 1.87847e-29 * h**2 #g cm-3\n",
    "rho0_crit *= (c**2 / eV * 1e-9) #GeV cm-3 \n",
    "\n"
   ]
  },
  {
   "cell_type": "markdown",
   "metadata": {},
   "source": [
    "# The density profiles "
   ]
  },
  {
   "cell_type": "markdown",
   "metadata": {},
   "source": [
    "In this section we define four dark matter density profiles. $\\rho_0$ is the central dark matter density of the observed object. $r_s$ is the scale radius. The most well-known profile is the Navarro-Frenk-White (NFW) profile:\n",
    "\n",
    "$\\rho_{NFW} = \\frac{\\rho_0}{\\left(\\frac{r}{r_s}\\right) \\left[ 1 + \\left(\\frac{r}{r_s}\\right) \\right]^2}$\n",
    "\n",
    "\n",
    "Generalizing equation the NFW profile and allowing for an arbitrary inner slope $\\gamma$, we get the Generalized NFW profile:\n",
    "\n",
    "$\\rho_{GNFW} = \\frac{\\rho_0}{\\left(\\frac{r}{r_s}\\right)^{\\gamma} \\left[ 1 + \\left(\\frac{r}{r_s}\\right) \\right]^{3-\\gamma}}$\n",
    "\n",
    "Contrary to the above two profiles, more recent simulations seem to suggest that galactic dark matter density profiles deviate from simple power-law dependencies, displaying slopes that vary with radius instead (Navarro et al. (2004), Gao et al. (2008) and Navarro et al. (2010)). One of the first attempts at modeling such irregularity was made by Einasto, who used the formula:\n",
    "            \n",
    "$\\rho_{Ein} (r) = \\rho_0 \\exp \\left({-\\frac{2}{a} \\left[ \\left(\\frac{r}{r_s}\\right)^a - 1 \\right] }\\right)$\n",
    "\n",
    "\n",
    "Finally we introduce the Burkert profile, which is extremely suitable for dwarf spheriodal galaxies.\n",
    "\n",
    "$\\rho_{Burk} (r) = \\frac{\\rho_0}{\\left(1+\\frac{r}{r_s}\\right)\\left(1+\\left(\\frac{r}{r_s}\\right)^2\\right)}$"
   ]
  },
  {
   "cell_type": "code",
   "execution_count": 4,
   "metadata": {
    "collapsed": false
   },
   "outputs": [],
   "source": [
    "# Density profiles that return either the density (square=False) \n",
    "# or density squared (square=True)\n",
    "\n",
    "def DM_density_NFW(r, rho_0, r_s, square=False):\n",
    "    rho = rho_0 / ((r / r_s) * (1 + (r / r_s))**2 )\n",
    "    if (square!=True):\n",
    "        return rho\n",
    "    else:\n",
    "        return rho**2\n",
    "    \n",
    "def DM_density_BURK(r, rho_0, r_s, square=False):\n",
    "    rho =  rho_0 / ((1 + r / r_s) * (1 + (r / r_s )**2))\n",
    "    if (square!=True):\n",
    "        return rho\n",
    "    else:\n",
    "        return rho**2\n",
    "    \n",
    "def DM_density_EIN(r, rho_0, r_s, a, square=False):\n",
    "    rho = rho_0 * np.exp(-(2 / a) * ((r/r_s)**a - 1))\n",
    "    if (square!=True):\n",
    "        return rho\n",
    "    else:\n",
    "        return rho**2\n",
    "\n",
    "def DM_density_GNFW(r, rho_0, r_s, gamma, square=False):\n",
    "    rho = rho_0/((r/r_s)**gamma*(1+(r/r_s))**(3-gamma))\n",
    "    if (square!=True):\n",
    "        return rho\n",
    "    else:\n",
    "        return rho**2\n",
    "    \n",
    "    \n",
    "# General DM density function, where TYPE represents the density profile\n",
    "# rho_0 is the central density in GeV/cm^3, r_s is the scale radius in cm\n",
    "# gamma plays a role in the GNFW profile,\n",
    "# a plays a role in the Einasto profile and\n",
    "# squared can be used to return either the density or the density squared\n",
    "def DM_density(TYPE, r, rho_0, r_s, gamma=1, a=1, square=False):\n",
    "    if ((TYPE==\"NFW\") or (TYPE==\"nfw\")):\n",
    "        return DM_density_NFW(r, rho_0, r_s, square)\n",
    "    elif ((TYPE==\"Burk\") or (TYPE==\"Burkert\") or (TYPE==\"BURK\")):\n",
    "        return DM_density_BURK(r, rho_0, r_s, square)\n",
    "    elif ((TYPE==\"Ein\") or (TYPE==\"EIN\") or (TYPE==\"Einasto\")):\n",
    "        return DM_density_EIN(r, rho_0, r_s, a, square)\n",
    "    elif ((TYPE==\"GNFW\") or (TYPE==\"gnfw\")):\n",
    "        return DM_density_GNFW(r, rho_0, r_s, gamma, square)   \n",
    "    else:\n",
    "        print(\"Error: \\tdensity profile TYPE was not recognized. Returned -1.\")\n",
    "        print(\"\\tPlease specify either of the following profile TYPEs:\")\n",
    "        print(\"\\t\\t-\\\"NFW\\\" for Navarro-Frenk-White profile\")\n",
    "        print(\"\\t\\t-\\\"Burk\\\" for Burkert profile\")\n",
    "        print(\"\\t\\t-\\\"Ein\\\" for Einasto profile\")\n",
    "        print(\"\\t\\t-\\\"GNFW\\\" for generalized Navarro-Frenk-White profile\")\n",
    "        return -1\n",
    "        \n",
    "# Allows for computation of the dark matter density along the line of \n",
    "# sight. Parameters:\n",
    "#     - l: the line of sight distance into the dark matter halo\n",
    "#     - mu: the cosine of the viewing angle w.r.t. the galactic center\n",
    "def DM_density_LOS(l, mu, d=8.5*kpc_to_cm, rho_0=0.471, r_s = 16*kpc_to_cm,\n",
    "                   gamma=1, a=1, square=True, Type=\"NFW\"):\n",
    "    r = np.sqrt(l**2 + d**2 - 2*l*d*mu)\n",
    "    return DM_density(Type, r, rho_0, r_s, gamma, a, square)      "
   ]
  },
  {
   "cell_type": "markdown",
   "metadata": {
    "collapsed": false
   },
   "source": [
    "# Plot of the density profiles "
   ]
  },
  {
   "cell_type": "code",
   "execution_count": 5,
   "metadata": {
    "collapsed": false
   },
   "outputs": [
    {
     "data": {
      "image/png": "[encoded data removed]",
      "text/plain": [
       "<matplotlib.figure.Figure at 0x22b0a9af940>"
      ]
     },
     "metadata": {},
     "output_type": "display_data"
    }
   ],
   "source": [
    "# Plot the density profiles for the Universe\n",
    "rho_0=0.471 # GeV/cm^3\n",
    "r_s=16*kpc_to_cm\n",
    "\n",
    "#  Create a range of input radii and plot parameters\n",
    "r=np.logspace(np.log10(0.01*kpc_to_cm), np.log10(50*kpc_to_cm), 50)\n",
    "a_lst = [1,1,0.2,1]\n",
    "gamma_lst = [1, 1.5, 1, 1]\n",
    "typelst = [\"NFW\", \"GNFW\", \"Einasto\", \"Burkert\"]\n",
    "colorlst = [\"b\",\"#0099cc\", \"#6600cc\", 'r']\n",
    "linestylelst = [\":\", \"-\", \"--\", \"-.\"]\n",
    "\n",
    "# Plot all density profiles\n",
    "fig = plt.figure(figsize=(10,6))\n",
    "ax = fig.add_subplot(111)\n",
    "for i in range(4):\n",
    "    density = DM_density(typelst[i], r, rho_0, r_s, gamma_lst[i], a_lst[i])\n",
    "    ax.plot(r/kpc_to_cm, density, color=colorlst[i], \n",
    "            linestyle=linestylelst[i], label=typelst[i])\n",
    "ax.set_xlabel(r\"r [kpc]\", fontsize=20)\n",
    "ax.set_ylabel(r\"Density [GeV $cm^{-3}}$]\", fontsize=20)\n",
    "ax.set_xscale(\"log\")\n",
    "ax.set_yscale(\"log\")\n",
    "#ax.set_title(\"Compton scattered spectrum $E_{photon,in}=$\"+str(e_in))\n",
    "ax.tick_params('both', labelsize=20, length=20, width=2, which='major', pad=8)\n",
    "ax.tick_params('both', labelsize=20, length=10, width=1, which='minor',pad=8)\n",
    "plt.legend(fontsize=20)\n",
    "plt.tight_layout()\n",
    "plt.show()"
   ]
  },
  {
   "cell_type": "markdown",
   "metadata": {
    "collapsed": false
   },
   "source": [
    "# J-factors for dwarf galaxies and galaxy clusters"
   ]
  },
  {
   "cell_type": "markdown",
   "metadata": {},
   "source": [
    "Assuming that the central density $\\rho_0$, the scale radius $r_s$ and the distance $d$ to a source are known, we can calculate its J-factor at an arbitrary observational angle $\\theta$ as:\n",
    "\n",
    "$ J = \\frac{1}{\\Delta\\Omega}\\int\\int_{\\Delta\\Omega}^{} \\rho_{DM}^2(l,\\Omega)dl d\\Omega $\n",
    "\n",
    "where $\\rho_{DM}(l,\\Omega)$ denotes the dark matter density as a function of the line-of-sight parameter $l$ and the solid angle $\\Omega$. As described in our report on indirect dark matter searches, different density profiles will have to be used for different sources. Most notably, for galaxies and galaxy clusters we can use the NFW profile:\n",
    "\n",
    "$\\rho_{NFW} = \\frac{\\rho_0}{\\left(\\frac{r}{r_s}\\right) \\left[ 1 + \\left(\\frac{r}{r_s}\\right) \\right]^2}$\n",
    "\n",
    "whilst Dwarf Galaxies --- having a flat inner density profile --- are best described using a Burkert profile:\n",
    "\n",
    "$\\rho_{Burk} (r) = \\frac{\\rho_0}{\\left(1+\\frac{r}{r_s}\\right)\\left(1+\\left(\\frac{r}{r_s}\\right)^2\\right)}$\n",
    "\n",
    "Here we can set:\n",
    "\n",
    "$r = \\sqrt{l^2 + d^2 - 2 l \\cos{\\theta}}$\n",
    "\n",
    "via the cosine rule to rewrite the radius in terms of the line-of-sight parameter and the longitudinal angle $\\theta$, which in turn allows for the integration necessary to compute the J-factor above.\n",
    "\n",
    "In the literature one can find multiple tables that list values for $\\rho_0$, $r_s$ and $d$ in the case of the Milky Way (see e.g. Boddy et al. (2018), https://arxiv.org/pdf/1805.08379.pdf) and for spheroidal dwarf galaxies (see e.g. Evans et al. (2016), https://arxiv.org/abs/1604.05599). However, most of the times, no direct values are given in the case of galaxy clusters. A paper by Hektor et al., published in 2013 (see https://arxiv.org/abs/1207.4466) lists distances $d$, virial masses $M_{vir}$ and J-factors for this is a collection of well-studied galaxy clustsers. Additionally, the paper gives values for the parameter $r_{200}$, which is typically taken to be equal to the virial radius (i.e. the radius up until which the virial theorem holds true), such that*:\n",
    "\n",
    "$\\rho(<r_{200}) = 200 \\rho_c(t) = 200 \\frac{3 H^2(t)}{8 \\pi G}$\n",
    "\n",
    "Using these values, we can calculate the scale radius and the scale density via the formula:\n",
    "\n",
    "1) $r_s = r_{200} / c_{200}$\n",
    "\n",
    "where $c_{vir}$ denotes the concentration parameter, which can be approximated via (see e.g. Storm et al. (2013) ; http://iopscience.iop.org/article/10.1088/0004-637X/768/2/106/meta):\n",
    "\n",
    "$c_{200} = 9 \\left(\\frac{M_{vir}}{10^{14} M_{sol}} h\\right)^{-0.172}$\n",
    "\n",
    "and via the equation:\n",
    "\n",
    "2) $\\rho_0 = \\delta_c \\rho_c$\n",
    "\n",
    "where $\\rho_c \\approx 5 \\cdot 10^{-6}$ GeV $cm^{-3}$  denotes the critical density of the Universe and where:\n",
    "\n",
    "$\\delta_c \\approx \\frac{200}{3} \\frac{c_{200}^3}{\\ln{(1+c_{200}) - \\frac{c_{200}}{1+c_{200}}}}$\n",
    "\n",
    "signifies the overdensity associated with the cluster. The values used by us for the following analysis are listed in the files \"clusters.txt\" and \"data.txt\".\n",
    "\n",
    "Ad *: Note that the definition of the virial radius depends on the cosmological convention which is used. For the $\\Lambda$CDM model we usually take $r_{vir} = r_{200}$"
   ]
  },
  {
   "cell_type": "code",
   "execution_count": 6,
   "metadata": {
    "collapsed": false
   },
   "outputs": [
    {
     "ename": "FileNotFoundError",
     "evalue": "[Errno 2] No such file or directory: 'clusters.txt'",
     "output_type": "error",
     "traceback": [
      "\u001b[1;31m---------------------------------------------------------------------------\u001b[0m",
      "\u001b[1;31mFileNotFoundError\u001b[0m                         Traceback (most recent call last)",
      "\u001b[1;32m<ipython-input-6-0867a37e3359>\u001b[0m in \u001b[0;36m<module>\u001b[1;34m()\u001b[0m\n\u001b[0;32m     19\u001b[0m \u001b[1;31m# Compute the galaxy cluster parameters and concatenate results to data.txt if not yet included\u001b[0m\u001b[1;33m\u001b[0m\u001b[1;33m\u001b[0m\u001b[0m\n\u001b[0;32m     20\u001b[0m \u001b[0mobjnr\u001b[0m \u001b[1;33m=\u001b[0m \u001b[1;36m0\u001b[0m\u001b[1;33m\u001b[0m\u001b[0m\n\u001b[1;32m---> 21\u001b[1;33m \u001b[1;32mwith\u001b[0m \u001b[0mopen\u001b[0m\u001b[1;33m(\u001b[0m\u001b[1;34m\"clusters.txt\"\u001b[0m\u001b[1;33m,\u001b[0m\u001b[1;34m'r'\u001b[0m\u001b[1;33m)\u001b[0m \u001b[1;32mas\u001b[0m \u001b[0mcl_dataf\u001b[0m\u001b[1;33m,\u001b[0m \u001b[0mopen\u001b[0m\u001b[1;33m(\u001b[0m\u001b[1;34m\"data.txt\"\u001b[0m\u001b[1;33m,\u001b[0m\u001b[1;34m'a'\u001b[0m\u001b[1;33m)\u001b[0m \u001b[1;32mas\u001b[0m \u001b[0mdataf\u001b[0m\u001b[1;33m:\u001b[0m\u001b[1;33m\u001b[0m\u001b[0m\n\u001b[0m\u001b[0;32m     22\u001b[0m     \u001b[1;32mfor\u001b[0m \u001b[0mrline\u001b[0m \u001b[1;32min\u001b[0m \u001b[0mcl_dataf\u001b[0m\u001b[1;33m:\u001b[0m\u001b[1;33m\u001b[0m\u001b[0m\n\u001b[0;32m     23\u001b[0m \u001b[1;33m\u001b[0m\u001b[0m\n",
      "\u001b[1;31mFileNotFoundError\u001b[0m: [Errno 2] No such file or directory: 'clusters.txt'"
     ]
    }
   ],
   "source": [
    "# Function for computing the scale density (see Storm et al. (2013))\n",
    "# Parameter x: x = r_s/r_vir\n",
    "def delta_c(c200):\n",
    "    prefact = 200./3.\n",
    "    return prefact* c200**3 / (np.log(1+c200) - c200/(1+c200))\n",
    "\n",
    "# Checks whether an object name is already specified within a file\n",
    "def check_if_contained(fname, obj_name):\n",
    "    with open(fname,'r') as f:\n",
    "        for line in f:\n",
    "            if line.startswith(obj_name):\n",
    "                return True\n",
    "            else:\n",
    "                continue\n",
    "        return False \n",
    "\n",
    "\n",
    "\n",
    "# Compute the galaxy cluster parameters and concatenate results to data.txt if not yet included\n",
    "objnr = 0\n",
    "with open(\"clusters.txt\",'r') as cl_dataf, open(\"data.txt\",'a') as dataf:\n",
    "    for rline in cl_dataf:\n",
    "        \n",
    "        # Skip empty lines and comments\n",
    "        if (not rline.split()) or (rline.startswith('#')):\n",
    "            continue\n",
    "        \n",
    "        # Extract cluster name\n",
    "        cl_obj = rline.split() \n",
    "        name = str(cl_obj[0])\n",
    "        objnr+=1\n",
    "        # Check whether cluster is contained in data.txt\n",
    "        if (check_if_contained(\"data.txt\",name)):\n",
    "            continue\n",
    "        \n",
    "        # Extract cluster data\n",
    "        Mvir = float(cl_obj[1]) #Msol\n",
    "        d = float(cl_obj[2])*1e3 #kpc\n",
    "        theta200 = float(cl_obj[3]) #deg\n",
    "        data_j = float(cl_obj[4]) * 1e3 * kpc_to_cm * rho0_crit**2 #GeV2 cm-5\n",
    "        \n",
    "        # The 1-sigma errors on the J-factors\n",
    "        errdata_upper_j = 0.3*np.log10(data_j)\n",
    "        errdata_lower_j = 0.2*np.log10(data_j)\n",
    "        \n",
    "        # Compute the scale radius\n",
    "        r200 = np.tan(theta200/180 * np.pi) * d #kpc\n",
    "        c_vir = 9 * (Mvir * h)**(-0.172) # -- \n",
    "        r_s = r200 / c_vir #kpc # We assume r_c = r_vir for the moment\n",
    "        \n",
    "        # The scale density \n",
    "        deltac = delta_c(c_vir)\n",
    "        rho0 = deltac * rho0_crit # GeV cm-3\n",
    "        \n",
    "        # A plotting colour\n",
    "        pltcol = 1/(objnr+1)\n",
    "        # Write the computed values to the data file\n",
    "        dataf.write(name+'\\t' + str(rho0)+'\\t' + str(r_s)+'\\t' + str(d)+'\\t')\n",
    "        dataf.write(str(theta200)+'\\t'+str(theta200)+'\\t' + str(np.log10(data_j))+'\\t'+str(np.log10(data_j))+'\\t')\n",
    "        dataf.write(str(errdata_upper_j)+'\\t'+str(errdata_upper_j)+'\\t')\n",
    "        dataf.write(str(errdata_lower_j)+'\\t'+str(errdata_lower_j)+'\\t' + str(pltcol)+'\\n')\n",
    "        \n"
   ]
  },
  {
   "cell_type": "code",
   "execution_count": null,
   "metadata": {
    "collapsed": false,
    "scrolled": true
   },
   "outputs": [],
   "source": [
    "# data.txt is a txt file that contains all data for the dwarf galaxies\n",
    "\n",
    "def plot_dwarf_galaxies(objects, profile_type, max_angle=1.5, nof_evals=20, d_factor=False):\n",
    "    \"\"\"Plots the J-factor and/or D-factor for the wanted objects.\"\"\"\n",
    "    # d_facor can be True or False, to specify whether or not it should be calculated.\n",
    "    # d\n",
    "    # objects is a list of object names that should be considered.\n",
    "    # profile_type specifies the desired density profile.\n",
    "    # max_angle is the angle up to which the J-factor is calculated/plotted.\n",
    "    # nof_evals defines at how many angles the J-factor should be calculated.\n",
    "    \n",
    "    # Initialize plot \n",
    "    fig = plt.figure(figsize=(10,6))\n",
    "    ax = fig.add_subplot(111)\n",
    "    ax.set_yscale(\"log\")\n",
    "    \n",
    "    # Compute the J-factors\n",
    "    angle = np.linspace(0.01, max_angle, nof_evals) # deg\n",
    "    D_factors, J_factors = np.zeros([2, 5, nof_evals])\n",
    "    \n",
    "    # For each object, plot the data (if available) and \n",
    "    # calculate the J-factor at the wanted angles\n",
    "    for obj_name in objects:\n",
    "        print(\"Processing \" + obj_name + \"...\")\n",
    "        # Read in data file with all paramters needed\n",
    "        with open(\"data.txt\") as f:\n",
    "            for line in f:\n",
    "                if line.startswith(obj_name):\n",
    "                    obj = line.split()\n",
    "                    rho_0 = float(obj[1])\n",
    "                    r_s = float(obj[2])*kpc_to_cm\n",
    "                    d = float(obj[3])*kpc_to_cm\n",
    "                    data_angle = np.array([float(obj[4]), float(obj[5])])\n",
    "                    data_j = np.array([float(obj[6]), float(obj[7])])\n",
    "                    data_j_upper_error = np.array([float(obj[8]), float(obj[9])])\n",
    "                    data_j_lower_error = np.array([float(obj[10]), float(obj[11])])\n",
    "                    plot_color=obj[12]\n",
    "        ylower = 10**(data_j - data_j_lower_error)\n",
    "        yupper = 10**(data_j + data_j_upper_error)\n",
    "        \n",
    "        # If all parameters are properly initialized, plot the data \n",
    "        if (data_angle[0]!=0) and (d_factor == False):\n",
    "            ax.errorbar(data_angle, 10**data_j, yerr=[ylower, yupper], c=plot_color, fmt=\"o\")\n",
    "        \n",
    "        # Calculate the J-factor at each angle, using the nquad function with a relaxed stepsize\n",
    "        for j, theta in enumerate(angle):\n",
    "            theta *= (np.pi / 180) # Conversion to rad\n",
    "            \n",
    "            # Calculate the D-factor is d_factor==True\n",
    "            if d_factor==True:\n",
    "                D = nquad(DM_density_LOS, [[0,2*d],[np.cos(theta),1]],\n",
    "                                args=(d, rho_0, r_s, 1, 1, False, profile_type), opts={\"epsrel\":1e-3})\n",
    "                D_factors[i,j] = 2*np.pi * D[0]\n",
    "            # Compute the J-factor\n",
    "            else:\n",
    "                J = nquad(DM_density_LOS, [[0,2*d],[np.cos(theta),1]],\n",
    "                                args=(d, rho_0, r_s, 1, 1, True, profile_type),  opts={\"epsrel\":1e-3})\n",
    "                J_factors[i,j] = 2*np.pi * J[0]\n",
    "        \n",
    "        # Plot the D-factor simulation results\n",
    "        if d_factor==True:\n",
    "            ax.plot(angle, D_factors[i], color=plot_color, linestyle=\"--\", label=\"D-factor: \"+ obj_name)\n",
    "        # Plot the J-factor simulation\n",
    "        else:\n",
    "            ax.plot(angle, J_factors[i], color=plot_color, linestyle='-', label=\"J-factor: \"+ obj_name)\n",
    "\n",
    "    ax.set_xlabel(\"Angle [deg]\", fontsize=20)\n",
    "    if d_factor==True:\n",
    "        ax.set_ylabel(r\"D-Factor [$\\mathrm{GeV} \\mathrm{cm}^{-2}$]\", fontsize=20)\n",
    "    else:\n",
    "        ax.set_ylabel(r\"J-Factor [$\\mathrm{GeV}^2 \\mathrm{cm}^{-5}$]\", fontsize=20)\n",
    "    ax.set_ylim([float(10**11), float(10**23)])\n",
    "    ax.set_xlim([0,max_angle])\n",
    "    ax.tick_params('both', labelsize=20, length=20, width=2, which='major', pad=8)\n",
    "    ax.tick_params('both', labelsize=20, length=10, width=1, which='minor',pad=8)\n",
    "    plt.legend(fontsize=20)\n",
    "    plt.tight_layout()\n",
    "    plt.show()"
   ]
  },
  {
   "cell_type": "code",
   "execution_count": null,
   "metadata": {
    "collapsed": false
   },
   "outputs": [],
   "source": [
    "# Plot the MilkyWay J- and D-factors together\n",
    "obj_names = [\"MilkyWay\", \"Carina\", \"Draco\",\"Perseus\",\"Coma\"]\n",
    "plot_dwarf_galaxies(objects=obj_names, profile_type=\"NFW\", max_angle=1.5, nof_evals=20, d_factor=True)"
   ]
  },
  {
   "cell_type": "code",
   "execution_count": null,
   "metadata": {
    "collapsed": false
   },
   "outputs": [],
   "source": [
    "# Plot J-factors for different types of sources\n",
    "obj_names = [\"MilkyWay\", \"Carina\", \"Draco\",\"Perseus\",\"Coma\"]\n",
    "plot_dwarf_galaxies(objects=obj_names, profile_type=\"NFW\", max_angle=1.5, nof_evals=20, d_factor=False)"
   ]
  },
  {
   "cell_type": "markdown",
   "metadata": {},
   "source": [
    "Looking at the above plots for the J- of different sources, we see that values get lower, the more distant a source is situated, which is precisely the behaviour one expects to observe. The J-factor datapoints found in the literature agree more or less with the derived curves. However, in the case of the dwarf galaxy Carina, there still seems to be a slight discrepancy. This is mostl ikely due to uncertainties in the scale density and scale radius used within the derivation. \n",
    "Furthermore, note that the 1$\\sigma$ error bars for the galaxy clusters, taken from Hektor et al. (2013), who estimated the $2\\sigma$ error bars at $^{+60\\%}_{-40\\%}$, are very high due to the large uncertainties in the cosmological parameters and densities involved in their calculation.\n",
    "\n",
    "Concerning the plot for the D-factor behaviour, we see that the galaxy clusters yield higher values than the spheroidal dwarf galaxies. "
   ]
  }
 ],
 "metadata": {
  "kernelspec": {
   "display_name": "Python 3",
   "language": "python",
   "name": "python3"
  },
  "language_info": {
   "codemirror_mode": {
    "name": "ipython",
    "version": 3
   },
   "file_extension": ".py",
   "mimetype": "text/x-python",
   "name": "python",
   "nbconvert_exporter": "python",
   "pygments_lexer": "ipython3",
   "version": "3.6.3"
  }
 },
 "nbformat": 4,
 "nbformat_minor": 2
}
